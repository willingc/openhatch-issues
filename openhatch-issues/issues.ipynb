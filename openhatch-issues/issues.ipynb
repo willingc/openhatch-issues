{
 "metadata": {
  "name": "",
  "signature": "sha256:1c1457c9d578daa2941bf2aafd6b98b4fd4edef78c9f175f416fadf218c4fa6e"
 },
 "nbformat": 3,
 "nbformat_minor": 0,
 "worksheets": [
  {
   "cells": [
    {
     "cell_type": "code",
     "collapsed": false,
     "input": [
      "from github3 import login"
     ],
     "language": "python",
     "metadata": {},
     "outputs": []
    },
    {
     "cell_type": "code",
     "collapsed": false,
     "input": [
      "# Python 3 compat\n",
      "import sys\n",
      "if sys.version_info[0] >= 3:\n",
      "    raw_input = input"
     ],
     "language": "python",
     "metadata": {},
     "outputs": []
    },
    {
     "cell_type": "code",
     "collapsed": false,
     "input": [
      "myuser = raw_input(\"What is your github user name?\")\n",
      "myuser"
     ],
     "language": "python",
     "metadata": {},
     "outputs": []
    },
    {
     "cell_type": "code",
     "collapsed": false,
     "input": [
      "mytoken = raw_input(\"What is your github token? \")"
     ],
     "language": "python",
     "metadata": {},
     "outputs": []
    },
    {
     "cell_type": "code",
     "collapsed": false,
     "input": [
      "gh = login(myuser, token=mytoken)"
     ],
     "language": "python",
     "metadata": {},
     "outputs": []
    },
    {
     "cell_type": "code",
     "collapsed": false,
     "input": [
      "user = gh.user()"
     ],
     "language": "python",
     "metadata": {},
     "outputs": []
    },
    {
     "cell_type": "code",
     "collapsed": false,
     "input": [
      "print(user)"
     ],
     "language": "python",
     "metadata": {},
     "outputs": []
    },
    {
     "cell_type": "code",
     "collapsed": false,
     "input": [
      "print(user.name)\n",
      "print(user.login)\n",
      "print(user.followers)"
     ],
     "language": "python",
     "metadata": {},
     "outputs": []
    },
    {
     "cell_type": "code",
     "collapsed": false,
     "input": [
      "for f in gh.iter_followers():\n",
      "    print(str(f))"
     ],
     "language": "python",
     "metadata": {},
     "outputs": []
    },
    {
     "cell_type": "code",
     "collapsed": false,
     "input": [
      "print(gh.zen())"
     ],
     "language": "python",
     "metadata": {},
     "outputs": []
    },
    {
     "cell_type": "code",
     "collapsed": false,
     "input": [
      "issue = gh.issue('openhatch', 'oh-mainline', 1403)\n",
      "print(issue)\n",
      "print(issue.title)\n",
      "print(issue.state)\n",
      "print(issue.number)\n",
      "\n",
      "print(issue.labels)"
     ],
     "language": "python",
     "metadata": {},
     "outputs": []
    },
    {
     "cell_type": "code",
     "collapsed": false,
     "input": [
      "for l in issue.iter_labels():\n",
      "    print(str(l))\n",
      "    if 'stat' in l.name:\n",
      "        print(\"this is a status label\")\n",
      "        if issue.is_closed() and 'resolved' not in l.name:\n",
      "            print(\"This issue should be marked resolved.\")\n",
      "            print(\"Removing old status\")\n",
      "            issue.remove_label(l)\n",
      "            issue.add_labels('stat:resolved')"
     ],
     "language": "python",
     "metadata": {},
     "outputs": []
    },
    {
     "cell_type": "code",
     "collapsed": false,
     "input": [],
     "language": "python",
     "metadata": {},
     "outputs": []
    }
   ],
   "metadata": {}
  }
 ]
}